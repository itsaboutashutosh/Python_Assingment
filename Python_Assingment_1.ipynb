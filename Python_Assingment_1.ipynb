{
  "nbformat": 4,
  "nbformat_minor": 0,
  "metadata": {
    "colab": {
      "name": "Python_Assingment_1.ipynb",
      "provenance": []
    },
    "kernelspec": {
      "name": "python3",
      "display_name": "Python 3"
    },
    "language_info": {
      "name": "python"
    }
  },
  "cells": [
    {
      "cell_type": "code",
      "metadata": {
        "colab": {
          "base_uri": "https://localhost:8080/",
          "height": 52
        },
        "id": "Swit9Dq6tpQO",
        "outputId": "2ca772fe-df50-42db-826e-afd40898356b"
      },
      "source": [
        "\"\"\"\n",
        "Q.1 In the below elements which of them are values or an expression? eg:- values can be\n",
        "integer or string and expressions will be mathematical.\n",
        "\n",
        "Ans.1 Values = 'hello', -87.8, 6\n",
        "      expressions = -87.6 + 6, -87.6 * 6, 'hello'*6\n",
        "\"\"\""
      ],
      "execution_count": 2,
      "outputs": [
        {
          "output_type": "execute_result",
          "data": {
            "application/vnd.google.colaboratory.intrinsic+json": {
              "type": "string"
            },
            "text/plain": [
              "\"\\nQ.1 In the below elements which of them are values or an expression? eg:- values can be\\ninteger or string and expressions will be mathematical.\\n\\nAns.1 Values = 'hello', -87.8, 6\\n      expressions = *, -, /, +, \\n\""
            ]
          },
          "metadata": {},
          "execution_count": 2
        }
      ]
    },
    {
      "cell_type": "code",
      "metadata": {
        "colab": {
          "base_uri": "https://localhost:8080/",
          "height": 52
        },
        "id": "hFFz3gawu5Dv",
        "outputId": "b70efd0e-87ca-4d62-e717-47829054f2f9"
      },
      "source": [
        "\"\"\"\n",
        "Q.2 What is the difference between string and variable?\n",
        "Ans.2.i. A string is a value between quotes - representing text\n",
        "ii. A variable is a name that can refer to any value\n",
        "\"\"\" "
      ],
      "execution_count": 3,
      "outputs": [
        {
          "output_type": "execute_result",
          "data": {
            "application/vnd.google.colaboratory.intrinsic+json": {
              "type": "string"
            },
            "text/plain": [
              "'\\nQ.2 What is the difference between string and variable?\\nAns.2.i. A string is a value between quotes - representing text\\nii. A variable is a name that can refer to any value\\n'"
            ]
          },
          "metadata": {},
          "execution_count": 3
        }
      ]
    },
    {
      "cell_type": "code",
      "metadata": {
        "colab": {
          "base_uri": "https://localhost:8080/",
          "height": 156
        },
        "id": "pyJxDFpSwOuP",
        "outputId": "a5b56fe6-4299-4ffd-f71c-4add0f1ebb0d"
      },
      "source": [
        "\"\"\"\n",
        "Q.3 Describe three different data types.\n",
        "Ans.3 i. Integers = integers are zero, positive or negative whole numbers without a fractional part.\n",
        "                    Integers can be binary, octal, and hexadecimal values.\n",
        "                    binary : 0b11011000 = 216\n",
        "                    Octal :  0o12 = 10\n",
        "                    hexadecimal : 0x12 = 15\n",
        "          All integer literals or variables are objects of the int class.\n",
        "\n",
        "    ii. Float = The float type in Python represents the floating point number. \n",
        "        Float is used to represent real numbers and is written with a decimal point dividing the integer and fractional parts. \n",
        "        For example, 97.98, 32.3+e18, -32.54e100 all are floating point numbers.\n",
        "\n",
        "        Python float values are represented as 64-bit double-precision values. \n",
        "        The maximum value any floating-point number can be is approx 1.8 x 10 raise to the power 308\n",
        "\n",
        "  iii.  Dict = consist of key-value pairs.\n",
        "               Dictionaries are enclosed by curly braces {} and values can be assigned and accessed using square braces [] \n",
        "               Dictionaries have no concept of order among elements.\n",
        "               They are simply unordered\n",
        "               \n",
        "               dct = {'one':1, 2:'two', (3,4,'Five'):('6',7,8)}\n",
        "               dct \n",
        "\"\"\""
      ],
      "execution_count": 14,
      "outputs": [
        {
          "output_type": "execute_result",
          "data": {
            "application/vnd.google.colaboratory.intrinsic+json": {
              "type": "string"
            },
            "text/plain": [
              "\"\\nQ.3 Describe three different data types.\\nAns.3 i. Integers = integers are zero, positive or negative whole numbers without a fractional part.\\n                    Integers can be binary, octal, and hexadecimal values.\\n                    binary : 0b11011000 = 216\\n                    Octal :  0o12 = 10\\n                    hexadecimal : 0x12 = 15\\n          All integer literals or variables are objects of the int class.\\n\\n    ii. Float = The float type in Python represents the floating point number. \\n        Float is used to represent real numbers and is written with a decimal point dividing the integer and fractional parts. \\n        For example, 97.98, 32.3+e18, -32.54e100 all are floating point numbers.\\n\\n        Python float values are represented as 64-bit double-precision values. \\n        The maximum value any floating-point number can be is approx 1.8 x 10 raise to the power 308\\n\\n  iii.  Dict = consist of key-value pairs.\\n               Dictionaries are enclosed by curly braces {} and values can be assigned and accessed using square braces [] \\n               Dictionaries have no concept of order among elements.\\n               They are simply unordered\\n               \\n               dct = {'one':1, 2:'two', (3,4,'Five'):('6',7,8)}\\n               dct \\n\""
            ]
          },
          "metadata": {},
          "execution_count": 14
        }
      ]
    },
    {
      "cell_type": "code",
      "metadata": {
        "colab": {
          "base_uri": "https://localhost:8080/",
          "height": 69
        },
        "id": "LWV1oeiE28jy",
        "outputId": "6837487a-7acd-4caa-ab4a-bd8ac5601cd6"
      },
      "source": [
        "\"\"\"\n",
        "Q.4. What is an expression made up of? What do all expressions do?\n",
        "Ans.4 The evaluation of an expression produces a value, \n",
        "      which is why expressions can appear on the right hand side of assignment statements\n",
        "      expression made up of : intergers, float, string and mathematical operators.\n",
        "      2 + 5, x+y, if(x>10 and x<20):\n",
        "\n",
        "\"\"\""
      ],
      "execution_count": 17,
      "outputs": [
        {
          "output_type": "execute_result",
          "data": {
            "application/vnd.google.colaboratory.intrinsic+json": {
              "type": "string"
            },
            "text/plain": [
              "'\\nQ.4. What is an expression made up of? What do all expressions do?\\nAns.4 The evaluation of an expression produces a value, \\n      which is why expressions can appear on the right hand side of assignment statements\\n      expression made up of : intergers, float, string and mathematical operators.\\n      An expression evaluates to some value.\\n      2 + 5, x+y, if(x>10 and x<20):\\n\\n'"
            ]
          },
          "metadata": {},
          "execution_count": 17
        }
      ]
    },
    {
      "cell_type": "code",
      "metadata": {
        "colab": {
          "base_uri": "https://localhost:8080/",
          "height": 104
        },
        "id": "RxY-ZLvL_vww",
        "outputId": "7c012ad6-6de0-4325-cfa4-3a15e624c12c"
      },
      "source": [
        "\"\"\"\n",
        "Q.5. This assignment statements, like spam = 10. What is the difference between an\n",
        "expression and a statement?\n",
        "Ans.5 Expression : An expression evaluates to some value\n",
        "      \"Hello World\", 1000, 5 + 3, a * 5 > b\n",
        "      all expressions have types. \"Hello World\" is a string type, 5 + 7 is an integer type.\n",
        "      A statement is never part of an expression.\n",
        "      Expression is 10\n",
        "\n",
        "      Statement is spam = 10\n",
        "      Statement : A statement performs some action.\n",
        "      An expression can be part of a statement.\n",
        "      print(\"Hello World\"), sleep(1000), return 55, if (done) exit(8)\n",
        "\"\"\""
      ],
      "execution_count": 2,
      "outputs": [
        {
          "output_type": "execute_result",
          "data": {
            "application/vnd.google.colaboratory.intrinsic+json": {
              "type": "string"
            },
            "text/plain": [
              "'\\nQ.5. This assignment statements, like spam = 10. What is the difference between an\\nexpression and a statement?\\nAns.5 Expression : An expression evaluates to some value\\n      \"Hello World\", 1000, 5 + 3, a * 5 > b\\n      all expressions have types. \"Hello World\" is a string type, 5 + 7 is an integer type.\\n      A statement is never part of an expression.\\n      Expression is 10\\n\\n      Statement is spam = 10\\n      Statement : A statement performs some action.\\n      An expression can be part of a statement.\\n      print(\"Hello World\"), sleep(1000), return 55, if (done) exit(8)\\n'"
            ]
          },
          "metadata": {},
          "execution_count": 2
        }
      ]
    },
    {
      "cell_type": "code",
      "metadata": {
        "colab": {
          "base_uri": "https://localhost:8080/",
          "height": 35
        },
        "id": "cv7aPvKon8oM",
        "outputId": "31141435-80f5-4c18-aa5f-249eab440589"
      },
      "source": [
        "\"\"\"\n",
        "Q.6. After running the following code, what does the variable bacon contain?\n",
        "bacon = 22\n",
        "bacon + 1\n",
        "\n",
        "Ans.6 bacon = 23\n",
        "\"\"\""
      ],
      "execution_count": 5,
      "outputs": [
        {
          "output_type": "execute_result",
          "data": {
            "application/vnd.google.colaboratory.intrinsic+json": {
              "type": "string"
            },
            "text/plain": [
              "'\\n6. After running the following code, what does the variable bacon contain?\\nbacon = 22\\nbacon + 1\\n\\nAns.6 bacon = 23\\n'"
            ]
          },
          "metadata": {},
          "execution_count": 5
        }
      ]
    },
    {
      "cell_type": "code",
      "metadata": {
        "colab": {
          "base_uri": "https://localhost:8080/",
          "height": 52
        },
        "id": "ZADTOajsoh_d",
        "outputId": "e7f83d14-40be-4d9c-c6a1-b472c74b4355"
      },
      "source": [
        "\"\"\"\n",
        "Q.7. What should the values of the following two terms be?\n",
        "'spam' + 'spamspam' = spamspamspam\n",
        "'spam'*3\n",
        "Ans.7 'spam' + 'spamspam' = spamspamspam\n",
        "      'spam'*3 = spamspamspam\n",
        "\"\"\""
      ],
      "execution_count": 8,
      "outputs": [
        {
          "output_type": "execute_result",
          "data": {
            "application/vnd.google.colaboratory.intrinsic+json": {
              "type": "string"
            },
            "text/plain": [
              "\"\\n7. What should the values of the following two terms be?\\n'spam' + 'spamspam' = spamspamspam\\n'spam'*3\\nAns.7 'spam' + 'spamspam' = spamspamspam\\n      'spam'*3 = spamspamspam\\n\""
            ]
          },
          "metadata": {},
          "execution_count": 8
        }
      ]
    },
    {
      "cell_type": "code",
      "metadata": {
        "colab": {
          "base_uri": "https://localhost:8080/",
          "height": 52
        },
        "id": "trZMStU9ooE4",
        "outputId": "2fba3b2e-056b-416a-f180-d710c5e43fd1"
      },
      "source": [
        "\"\"\"\n",
        "Q.8. Why is eggs a valid variable name while 100 is invalid?\n",
        "Ans.8 Because values can't be assigned to literal and variable name shouldn't be an integer.\n",
        "\"\"\""
      ],
      "execution_count": 12,
      "outputs": [
        {
          "output_type": "execute_result",
          "data": {
            "application/vnd.google.colaboratory.intrinsic+json": {
              "type": "string"
            },
            "text/plain": [
              "\"\\nQ.8. Why is eggs a valid variable name while 100 is invalid?\\nAns.8 Because values can't be assigned to literal and variable name shouldn't be an integer.\\n\""
            ]
          },
          "metadata": {},
          "execution_count": 12
        }
      ]
    },
    {
      "cell_type": "code",
      "metadata": {
        "colab": {
          "base_uri": "https://localhost:8080/",
          "height": 69
        },
        "id": "DX0f4SFOqmj9",
        "outputId": "c3af2ff9-de5c-4d0f-bdae-52d3d6d54a23"
      },
      "source": [
        "\"\"\"\n",
        "Q.9. What three functions can be used to get the integer, floating-point number, or string\n",
        "version of a value?\n",
        "Ans.9 int() for getting integer version of value\n",
        "      float() for getting floating-point version of value\n",
        "       str() for getting string version of value\n",
        "\"\"\""
      ],
      "execution_count": 17,
      "outputs": [
        {
          "output_type": "execute_result",
          "data": {
            "application/vnd.google.colaboratory.intrinsic+json": {
              "type": "string"
            },
            "text/plain": [
              "'\\n9. What three functions can be used to get the integer, floating-point number, or string\\nversion of a value?\\nAns.9 int() for getting integer version of value\\n      float() for getting floating-point version of value\\n       str() for getting string version of value\\n'"
            ]
          },
          "metadata": {},
          "execution_count": 17
        }
      ]
    },
    {
      "cell_type": "code",
      "metadata": {
        "colab": {
          "base_uri": "https://localhost:8080/",
          "height": 69
        },
        "id": "Yv8O-FzPtCJ2",
        "outputId": "c36215c5-d449-455a-8dd2-72b85d0a9e1a"
      },
      "source": [
        "\"\"\"\n",
        "Q.10. Why does this expression cause an error? How can you fix it?\n",
        "'I have eaten' + 99 + 'burritos'\n",
        "Ans.10 because string and integer values cannot be concatenated together so,\n",
        "        i have to change datatype of 99 from integer version to string version.\n",
        "        'I have eaten ' + str(99) + ' burritos.' \n",
        "\"\"\""
      ],
      "execution_count": 22,
      "outputs": [
        {
          "output_type": "execute_result",
          "data": {
            "application/vnd.google.colaboratory.intrinsic+json": {
              "type": "string"
            },
            "text/plain": [
              "\"\\nQ.10. Why does this expression cause an error? How can you fix it?\\n'I have eaten' + 99 + 'burritos'\\nAns.10 because string and integer values cannot be concatenated together so,\\n        i have to change datatype of 99 from integer version to string version.\\n        'I have eaten ' + str(99) + ' burritos.' \\n\""
            ]
          },
          "metadata": {},
          "execution_count": 22
        }
      ]
    },
    {
      "cell_type": "code",
      "metadata": {
        "id": "g2nt5Cu3t6l6"
      },
      "source": [
        ""
      ],
      "execution_count": null,
      "outputs": []
    }
  ]
}